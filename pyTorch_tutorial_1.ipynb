{
 "cells": [
  {
   "cell_type": "code",
   "execution_count": 2,
   "metadata": {},
   "outputs": [],
   "source": [
    "from __future__ import print_function # python 2, 3의 호환성 문제를 해결하기 위함\n",
    "import torch      # gradient가 되는 numpy"
   ]
  },
  {
   "cell_type": "code",
   "execution_count": 4,
   "metadata": {},
   "outputs": [
    {
     "name": "stdout",
     "output_type": "stream",
     "text": [
      "tensor([[0.0000, 0.0000, 0.0000],\n",
      "        [0.0000, 0.0000, 0.0000],\n",
      "        [0.0000, 0.0000, 0.0000],\n",
      "        [0.0000, 0.0000, 0.0000],\n",
      "        [0.0000, 0.0000, 0.0000]])\n"
     ]
    }
   ],
   "source": [
    "x = torch.empty(5,3)\n",
    "print(x)"
   ]
  },
  {
   "cell_type": "code",
   "execution_count": 7,
   "metadata": {},
   "outputs": [
    {
     "name": "stdout",
     "output_type": "stream",
     "text": [
      "tensor([[0.2632, 0.0819, 0.6483],\n",
      "        [0.7266, 0.5451, 0.3834],\n",
      "        [0.6326, 0.4443, 0.6000],\n",
      "        [0.7596, 0.2128, 0.9050],\n",
      "        [0.6897, 0.2216, 0.9296]])\n"
     ]
    }
   ],
   "source": [
    "x = torch.rand(5,3)\n",
    "print(x)"
   ]
  },
  {
   "cell_type": "code",
   "execution_count": 8,
   "metadata": {},
   "outputs": [
    {
     "name": "stdout",
     "output_type": "stream",
     "text": [
      "tensor([[0, 0, 0],\n",
      "        [0, 0, 0],\n",
      "        [0, 0, 0],\n",
      "        [0, 0, 0],\n",
      "        [0, 0, 0]])\n"
     ]
    }
   ],
   "source": [
    "# 가장 많이 씀 - 0 또는 1 넣고 2 넣고..?\n",
    "x = torch.zeros(5,3,dtype=torch.long)\n",
    "print(x)"
   ]
  },
  {
   "cell_type": "code",
   "execution_count": 10,
   "metadata": {},
   "outputs": [
    {
     "name": "stdout",
     "output_type": "stream",
     "text": [
      "tensor([5.5000, 3.0000])\n"
     ]
    }
   ],
   "source": [
    "x = torch.tensor([5.5,3])\n",
    "print(x)"
   ]
  },
  {
   "cell_type": "code",
   "execution_count": 15,
   "metadata": {},
   "outputs": [
    {
     "name": "stdout",
     "output_type": "stream",
     "text": [
      "tensor([[1., 1., 1.],\n",
      "        [1., 1., 1.],\n",
      "        [1., 1., 1.],\n",
      "        [1., 1., 1.],\n",
      "        [1., 1., 1.]], dtype=torch.float64)\n",
      "tensor([[0.0239, 0.4565, 0.1672],\n",
      "        [0.0846, 0.3476, 0.2069],\n",
      "        [0.4699, 0.7279, 0.9820],\n",
      "        [0.6323, 0.4841, 0.4841],\n",
      "        [0.8176, 0.8008, 0.1422]])\n"
     ]
    }
   ],
   "source": [
    "x = x.new_ones(5,3,dtype=torch.double)\n",
    "print(x)\n",
    "\n",
    "## 앞 사이즈에 맞는 랜덤 노이즈를 넣을 수 있음\n",
    "x = torch.rand_like(x, dtype=torch.float)\n",
    "print(x)"
   ]
  },
  {
   "cell_type": "code",
   "execution_count": 17,
   "metadata": {},
   "outputs": [
    {
     "data": {
      "text/plain": [
       "torch.Size([5, 3])"
      ]
     },
     "execution_count": 17,
     "metadata": {},
     "output_type": "execute_result"
    }
   ],
   "source": [
    "x.size()"
   ]
  },
  {
   "cell_type": "code",
   "execution_count": 21,
   "metadata": {},
   "outputs": [
    {
     "name": "stdout",
     "output_type": "stream",
     "text": [
      "tensor([[0.2967, 0.7305, 0.3119],\n",
      "        [0.7259, 0.7397, 0.4544],\n",
      "        [1.1878, 1.0925, 1.2517],\n",
      "        [1.5434, 1.1341, 0.9990],\n",
      "        [1.3500, 1.6207, 0.1664]])\n",
      "tensor([[0.2967, 0.7305, 0.3119],\n",
      "        [0.7259, 0.7397, 0.4544],\n",
      "        [1.1878, 1.0925, 1.2517],\n",
      "        [1.5434, 1.1341, 0.9990],\n",
      "        [1.3500, 1.6207, 0.1664]])\n",
      "tensor([[0.2967, 0.7305, 0.3119],\n",
      "        [0.7259, 0.7397, 0.4544],\n",
      "        [1.1878, 1.0925, 1.2517],\n",
      "        [1.5434, 1.1341, 0.9990],\n",
      "        [1.3500, 1.6207, 0.1664]])\n",
      "tensor([[0.3206, 1.1870, 0.4791],\n",
      "        [0.8105, 1.0872, 0.6613],\n",
      "        [1.6577, 1.8204, 2.2337],\n",
      "        [2.1758, 1.6182, 1.4831],\n",
      "        [2.1676, 2.4215, 0.3086]])\n"
     ]
    }
   ],
   "source": [
    "# Operation\n",
    "y = torch.rand(5,3)\n",
    "print(x + y) # element add\n",
    "print(torch.add(x,y))\n",
    "print(y.add_(x)) # add x to y\n",
    "\n",
    "result = torch.empty(5,3)\n",
    "torch.add(x,y,out=result)\n",
    "print(result)"
   ]
  },
  {
   "cell_type": "code",
   "execution_count": 26,
   "metadata": {},
   "outputs": [
    {
     "name": "stdout",
     "output_type": "stream",
     "text": [
      "tensor([[0.0239, 0.4565, 0.1672],\n",
      "        [0.0846, 0.3476, 0.2069],\n",
      "        [0.4699, 0.7279, 0.9820],\n",
      "        [0.6323, 0.4841, 0.4841],\n",
      "        [0.8176, 0.8008, 0.1422]])\n"
     ]
    }
   ],
   "source": [
    "print(x)"
   ]
  },
  {
   "cell_type": "code",
   "execution_count": 25,
   "metadata": {},
   "outputs": [
    {
     "name": "stdout",
     "output_type": "stream",
     "text": [
      "tensor([[0.0239, 0.4565, 0.1672]])\n",
      "tensor([[0.0846, 0.3476, 0.2069],\n",
      "        [0.4699, 0.7279, 0.9820],\n",
      "        [0.6323, 0.4841, 0.4841],\n",
      "        [0.8176, 0.8008, 0.1422]])\n",
      "tensor([0.4565, 0.3476, 0.7279, 0.4841, 0.8008])\n"
     ]
    }
   ],
   "source": [
    "print(x[:1])\n",
    "print(x[1:])\n",
    "print(x[:,1])"
   ]
  },
  {
   "cell_type": "code",
   "execution_count": 30,
   "metadata": {},
   "outputs": [
    {
     "name": "stdout",
     "output_type": "stream",
     "text": [
      "tensor([[-1.1221, -1.8340,  1.5816,  1.4987],\n",
      "        [-0.0022,  1.6518,  0.2043,  0.1988],\n",
      "        [ 0.7873, -0.1361, -0.3168, -1.3651],\n",
      "        [-1.4518, -0.3094, -0.7840,  1.7885]])\n",
      "tensor([-1.1221, -1.8340,  1.5816,  1.4987, -0.0022,  1.6518,  0.2043,  0.1988,\n",
      "         0.7873, -0.1361, -0.3168, -1.3651, -1.4518, -0.3094, -0.7840,  1.7885])\n",
      "torch.Size([2, 8])\n"
     ]
    }
   ],
   "source": [
    "x = torch.randn(4,4)\n",
    "print(x)\n",
    "y = x.view(16)\n",
    "print(y)\n",
    "z = x.view(-1,8) # -1은 다른 차원으로 채워줌 \n",
    "print(z.shape)"
   ]
  },
  {
   "cell_type": "code",
   "execution_count": 33,
   "metadata": {},
   "outputs": [
    {
     "name": "stdout",
     "output_type": "stream",
     "text": [
      "tensor([1.2603])\n",
      "1.2603446245193481\n"
     ]
    }
   ],
   "source": [
    "x = torch.randn(1)\n",
    "print(x)\n",
    "print(x.item()) # tensor에서 value 꺼낼 때, python numner"
   ]
  },
  {
   "cell_type": "code",
   "execution_count": 37,
   "metadata": {},
   "outputs": [
    {
     "name": "stdout",
     "output_type": "stream",
     "text": [
      "tensor([1., 1., 1., 1., 1.])\n",
      "[1. 1. 1. 1. 1.]\n"
     ]
    }
   ],
   "source": [
    "import numpy as np\n",
    "a = torch.ones(5)\n",
    "b = a.numpy()\n",
    "print(a)\n",
    "print(b)"
   ]
  },
  {
   "cell_type": "code",
   "execution_count": 38,
   "metadata": {},
   "outputs": [
    {
     "name": "stdout",
     "output_type": "stream",
     "text": [
      "[1. 1. 1. 1. 1.]\n",
      "tensor([1., 1., 1., 1., 1.], dtype=torch.float64)\n"
     ]
    }
   ],
   "source": [
    "a = np.ones(5)\n",
    "b = torch.from_numpy(a)\n",
    "print(a)\n",
    "print(b)"
   ]
  },
  {
   "cell_type": "code",
   "execution_count": 41,
   "metadata": {},
   "outputs": [
    {
     "data": {
      "text/plain": [
       "array([2., 2., 2., 2., 2.])"
      ]
     },
     "execution_count": 41,
     "metadata": {},
     "output_type": "execute_result"
    }
   ],
   "source": [
    "np.add(a,1,out=a)"
   ]
  },
  {
   "cell_type": "code",
   "execution_count": 42,
   "metadata": {},
   "outputs": [
    {
     "name": "stdout",
     "output_type": "stream",
     "text": [
      "[2. 2. 2. 2. 2.]\n",
      "tensor([2., 2., 2., 2., 2.], dtype=torch.float64)\n"
     ]
    }
   ],
   "source": [
    "print(a)\n",
    "print(b)\n"
   ]
  },
  {
   "cell_type": "code",
   "execution_count": null,
   "metadata": {},
   "outputs": [],
   "source": []
  }
 ],
 "metadata": {
  "kernelspec": {
   "display_name": "Python 3",
   "language": "python",
   "name": "python3"
  },
  "language_info": {
   "codemirror_mode": {
    "name": "ipython",
    "version": 3
   },
   "file_extension": ".py",
   "mimetype": "text/x-python",
   "name": "python",
   "nbconvert_exporter": "python",
   "pygments_lexer": "ipython3",
   "version": "3.6.5"
  }
 },
 "nbformat": 4,
 "nbformat_minor": 2
}
