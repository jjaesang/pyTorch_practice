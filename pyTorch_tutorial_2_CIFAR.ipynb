{
 "cells": [
  {
   "cell_type": "code",
   "execution_count": 5,
   "metadata": {},
   "outputs": [],
   "source": [
    "import torch\n",
    "import torchvision\n",
    "import torchvision.transforms as transforms"
   ]
  },
  {
   "cell_type": "code",
   "execution_count": 6,
   "metadata": {},
   "outputs": [],
   "source": [
    "transform = transforms.Compose(\n",
    "    [transforms.ToTensor(),\n",
    "     transforms.Normalize((0.5, 0.5, 0.5), (0.5, 0.5, 0.5))])\n",
    "\n",
    "trainset = torchvision.datasets.CIFAR10(root='./data', train=True,\n",
    "                                        download=False, transform=transform)\n",
    "trainloader = torch.utils.data.DataLoader(trainset, batch_size=4,\n",
    "                                          shuffle=True, num_workers=2)\n",
    "\n",
    "testset = torchvision.datasets.CIFAR10(root='./data', train=False,\n",
    "                                       download=False, transform=transform)\n",
    "testloader = torch.utils.data.DataLoader(testset, batch_size=4,\n",
    "                                         shuffle=False, num_workers=2)\n",
    "\n",
    "classes = ('plane', 'car', 'bird', 'cat',\n",
    "           'deer', 'dog', 'frog', 'horse', 'ship', 'truck')"
   ]
  },
  {
   "cell_type": "code",
   "execution_count": 8,
   "metadata": {},
   "outputs": [
    {
     "data": {
      "text/plain": [
       "Compose(\n",
       "    ToTensor()\n",
       "    Normalize(mean=(0.5, 0.5, 0.5), std=(0.5, 0.5, 0.5))\n",
       ")"
      ]
     },
     "execution_count": 8,
     "metadata": {},
     "output_type": "execute_result"
    }
   ],
   "source": [
    "transform = transforms.Compose(\n",
    "[\n",
    "    transforms.ToTensor(),\n",
    "    transforms.Normalize((0.5,0.5,0.5),(0.5,0.5,0.5))\n",
    "])\n",
    "transform"
   ]
  },
  {
   "cell_type": "code",
   "execution_count": 9,
   "metadata": {},
   "outputs": [],
   "source": [
    "classes = ('plane','car','bird','cat','deer','dog','frog','horse','ship','truck')"
   ]
  },
  {
   "cell_type": "code",
   "execution_count": 11,
   "metadata": {},
   "outputs": [],
   "source": [
    "import matplotlib.pyplot as plt\n",
    "import numpy as np "
   ]
  },
  {
   "cell_type": "code",
   "execution_count": 18,
   "metadata": {},
   "outputs": [],
   "source": [
    "def imshow(img):\n",
    "    img = img/2 +0.5\n",
    "    npimg = img.numpy()\n",
    "    plt.imshow(np.transpose(npimg,(1,2,0)))"
   ]
  },
  {
   "cell_type": "code",
   "execution_count": 21,
   "metadata": {},
   "outputs": [],
   "source": [
    "dataiter = iter(trainloader)\n",
    "images,labels = dataiter.next()"
   ]
  },
  {
   "cell_type": "code",
   "execution_count": 16,
   "metadata": {},
   "outputs": [
    {
     "data": {
      "text/plain": [
       "torch.Size([4])"
      ]
     },
     "execution_count": 16,
     "metadata": {},
     "output_type": "execute_result"
    }
   ],
   "source": [
    "labels.shape"
   ]
  },
  {
   "cell_type": "code",
   "execution_count": 24,
   "metadata": {},
   "outputs": [
    {
     "data": {
      "text/plain": [
       "torch.Size([4, 3, 32, 32])"
      ]
     },
     "execution_count": 24,
     "metadata": {},
     "output_type": "execute_result"
    }
   ],
   "source": [
    "images.shape"
   ]
  },
  {
   "cell_type": "code",
   "execution_count": 22,
   "metadata": {},
   "outputs": [
    {
     "data": {
      "image/png": "[encoded data removed]",
      "text/plain": [
       "<Figure size 432x288 with 1 Axes>"
      ]
     },
     "metadata": {
      "needs_background": "light"
     },
     "output_type": "display_data"
    }
   ],
   "source": [
    "imshow(torchvision.utils.make_grid(images))"
   ]
  },
  {
   "cell_type": "code",
   "execution_count": 23,
   "metadata": {},
   "outputs": [
    {
     "name": "stdout",
     "output_type": "stream",
     "text": [
      " ship   dog  deer truck\n"
     ]
    }
   ],
   "source": [
    "print(' '.join('%5s' % classes[labels[j]] for j in range(4)))"
   ]
  },
  {
   "cell_type": "code",
   "execution_count": 25,
   "metadata": {},
   "outputs": [],
   "source": [
    "import torch.nn as nn\n",
    "import torch.nn.functional as F"
   ]
  },
  {
   "cell_type": "code",
   "execution_count": 28,
   "metadata": {},
   "outputs": [],
   "source": [
    "class Net(nn.Module):\n",
    "    def __init__(self):\n",
    "        super(Net,self).__init__()\n",
    "        self.conv1 = nn.Conv2d(3,6,5) # in_channel, out_channel , kernel_size\n",
    "        self.pool = nn.MaxPool2d(2,2)\n",
    "        self.conv2 = nn.Conv2d(6,16,5)\n",
    "        self.fc1 = nn.Linear(16 * 5 * 5,120)\n",
    "        self.fc2 = nn.Linear(120, 84)\n",
    "        self.fc3 = nn.Linear(84,10)\n",
    "        \n",
    "    def forward(self, x): # x는 입력값\n",
    "        x = self.pool(F.relu(self.conv1(x)))\n",
    "        x = self.pool(F.relu(self.conv2(x)))\n",
    "        x = x.view(-1, 16 * 5 * 5) # 펼치기 ( OUT_CHANNEL * SUBSAMPLE_SHAPRE)\n",
    "        x = F.relu(self.fc1(x))\n",
    "        x = F.relu(self.fc2(x))\n",
    "        x = self.fc3(x)\n",
    "        return x\n",
    "    "
   ]
  },
  {
   "cell_type": "code",
   "execution_count": 29,
   "metadata": {},
   "outputs": [],
   "source": [
    "net = Net()"
   ]
  },
  {
   "cell_type": "code",
   "execution_count": 32,
   "metadata": {},
   "outputs": [],
   "source": [
    "import torch.optim as optim\n",
    "\n",
    "criterion = nn.CrossEntropyLoss()\n",
    "optimizer = optim.SGD(net.parameters(),lr=0.001, momentum=0.9) # momentum : 관성 ->기울기가 꺽이는 부분 해결하기 위함 = 아담"
   ]
  },
  {
   "cell_type": "code",
   "execution_count": 35,
   "metadata": {},
   "outputs": [
    {
     "name": "stdout",
     "output_type": "stream",
     "text": [
      "[1,   200] loss: 2.151\n",
      "[1,   400] loss: 2.072\n",
      "[1,   600] loss: 2.064\n",
      "[1,   800] loss: 2.008\n",
      "[1,  1000] loss: 1.980\n",
      "[1,  1200] loss: 1.992\n",
      "[1,  1400] loss: 1.934\n",
      "[1,  1600] loss: 1.907\n",
      "[1,  1800] loss: 1.910\n",
      "[1,  2000] loss: 1.856\n",
      "[1,  2200] loss: 1.815\n",
      "[1,  2400] loss: 1.823\n",
      "[1,  2600] loss: 1.795\n",
      "[1,  2800] loss: 1.806\n",
      "[1,  3000] loss: 1.761\n",
      "[1,  3200] loss: 1.724\n",
      "[1,  3400] loss: 1.720\n",
      "[1,  3600] loss: 1.685\n",
      "[1,  3800] loss: 1.694\n",
      "[1,  4000] loss: 1.671\n",
      "[1,  4200] loss: 1.701\n",
      "[1,  4400] loss: 1.635\n",
      "[1,  4600] loss: 1.641\n",
      "[1,  4800] loss: 1.649\n",
      "[1,  5000] loss: 1.624\n",
      "[1,  5200] loss: 1.604\n",
      "[1,  5400] loss: 1.648\n",
      "[1,  5600] loss: 1.532\n",
      "[1,  5800] loss: 1.608\n",
      "[1,  6000] loss: 1.552\n",
      "[1,  6200] loss: 1.639\n",
      "[1,  6400] loss: 1.546\n",
      "[1,  6600] loss: 1.536\n",
      "[1,  6800] loss: 1.577\n",
      "[1,  7000] loss: 1.597\n",
      "[1,  7200] loss: 1.634\n",
      "[1,  7400] loss: 1.543\n",
      "[1,  7600] loss: 1.470\n",
      "[1,  7800] loss: 1.530\n",
      "[1,  8000] loss: 1.535\n",
      "[1,  8200] loss: 1.512\n",
      "[1,  8400] loss: 1.502\n",
      "[1,  8600] loss: 1.467\n",
      "[1,  8800] loss: 1.467\n",
      "[1,  9000] loss: 1.530\n",
      "[1,  9200] loss: 1.429\n",
      "[1,  9400] loss: 1.448\n",
      "[1,  9600] loss: 1.482\n",
      "[1,  9800] loss: 1.509\n",
      "[1, 10000] loss: 1.489\n",
      "[1, 10200] loss: 1.438\n",
      "[1, 10400] loss: 1.516\n",
      "[1, 10600] loss: 1.419\n",
      "[1, 10800] loss: 1.442\n",
      "[1, 11000] loss: 1.472\n",
      "[1, 11200] loss: 1.474\n",
      "[1, 11400] loss: 1.474\n",
      "[1, 11600] loss: 1.439\n",
      "[1, 11800] loss: 1.394\n",
      "[1, 12000] loss: 1.463\n",
      "[1, 12200] loss: 1.466\n",
      "[1, 12400] loss: 1.472\n",
      "[2,   200] loss: 1.404\n",
      "[2,   400] loss: 1.404\n",
      "[2,   600] loss: 1.433\n",
      "[2,   800] loss: 1.442\n",
      "[2,  1000] loss: 1.396\n",
      "[2,  1200] loss: 1.337\n",
      "[2,  1400] loss: 1.434\n",
      "[2,  1600] loss: 1.405\n",
      "[2,  1800] loss: 1.310\n",
      "[2,  2000] loss: 1.358\n",
      "[2,  2200] loss: 1.398\n",
      "[2,  2400] loss: 1.378\n",
      "[2,  2600] loss: 1.324\n",
      "[2,  2800] loss: 1.341\n",
      "[2,  3000] loss: 1.395\n",
      "[2,  3200] loss: 1.347\n",
      "[2,  3400] loss: 1.342\n",
      "[2,  3600] loss: 1.329\n",
      "[2,  3800] loss: 1.377\n",
      "[2,  4000] loss: 1.349\n",
      "[2,  4200] loss: 1.408\n",
      "[2,  4400] loss: 1.343\n",
      "[2,  4600] loss: 1.374\n",
      "[2,  4800] loss: 1.318\n",
      "[2,  5000] loss: 1.405\n",
      "[2,  5200] loss: 1.405\n",
      "[2,  5400] loss: 1.309\n",
      "[2,  5600] loss: 1.340\n",
      "[2,  5800] loss: 1.328\n",
      "[2,  6000] loss: 1.286\n",
      "[2,  6200] loss: 1.272\n",
      "[2,  6400] loss: 1.323\n",
      "[2,  6600] loss: 1.352\n",
      "[2,  6800] loss: 1.364\n",
      "[2,  7000] loss: 1.341\n",
      "[2,  7200] loss: 1.344\n",
      "[2,  7400] loss: 1.332\n",
      "[2,  7600] loss: 1.323\n",
      "[2,  7800] loss: 1.256\n",
      "[2,  8000] loss: 1.330\n",
      "[2,  8200] loss: 1.294\n",
      "[2,  8400] loss: 1.303\n",
      "[2,  8600] loss: 1.359\n",
      "[2,  8800] loss: 1.343\n",
      "[2,  9000] loss: 1.271\n",
      "[2,  9200] loss: 1.238\n",
      "[2,  9400] loss: 1.313\n",
      "[2,  9600] loss: 1.268\n",
      "[2,  9800] loss: 1.249\n",
      "[2, 10000] loss: 1.313\n",
      "[2, 10200] loss: 1.234\n",
      "[2, 10400] loss: 1.274\n",
      "[2, 10600] loss: 1.307\n",
      "[2, 10800] loss: 1.311\n",
      "[2, 11000] loss: 1.296\n",
      "[2, 11200] loss: 1.288\n",
      "[2, 11400] loss: 1.311\n",
      "[2, 11600] loss: 1.298\n",
      "[2, 11800] loss: 1.294\n",
      "[2, 12000] loss: 1.307\n",
      "[2, 12200] loss: 1.243\n",
      "[2, 12400] loss: 1.259\n",
      "Finished Training\n"
     ]
    }
   ],
   "source": [
    "# 데이터셋 다 드는 횟수 = epoch\n",
    "for epoch in range(2):\n",
    "    \n",
    "    running_loss = 0.0\n",
    "    for i,data in enumerate(trainloader,0) :# Index 빠져나옴\n",
    "        inputs, labels = data\n",
    "        optimizer.zero_grad()\n",
    "        \n",
    "        outputs = net(inputs)\n",
    "        loss = criterion(outputs,labels)\n",
    "        loss.backward()\n",
    "        optimizer.step()\n",
    "        \n",
    "        running_loss += loss.item()\n",
    "        if i % 200 == 199:\n",
    "            print('[%d, %5d] loss: %.3f' %\n",
    "                  (epoch + 1, i + 1, running_loss / 200))\n",
    "            running_loss = 0.0\n",
    "            \n",
    "print('Finished Training')"
   ]
  },
  {
   "cell_type": "code",
   "execution_count": 37,
   "metadata": {},
   "outputs": [
    {
     "name": "stdout",
     "output_type": "stream",
     "text": [
      "GroundTruth:    cat  ship  ship plane\n"
     ]
    },
    {
     "data": {
      "image/png": "[encoded data removed]",
      "text/plain": [
       "<Figure size 432x288 with 1 Axes>"
      ]
     },
     "metadata": {
      "needs_background": "light"
     },
     "output_type": "display_data"
    }
   ],
   "source": [
    "dataiter = iter(testloader)\n",
    "images,labels = dataiter.next()\n",
    "\n",
    "imshow(torchvision.utils.make_grid(images))\n",
    "print('GroundTruth: ', ' '.join('%5s' % classes[labels[j]] for j in range(4)))\n"
   ]
  },
  {
   "cell_type": "code",
   "execution_count": 45,
   "metadata": {},
   "outputs": [
    {
     "data": {
      "text/plain": [
       "tensor([[-0.5759, -1.9934, -0.1035,  2.9081, -0.1965,  2.1618,  1.1461, -0.9467,\n",
       "         -0.4882, -2.0352],\n",
       "        [ 5.5454,  6.5375, -2.6274, -3.5413, -3.6268, -5.7657, -6.1213, -4.4932,\n",
       "          7.8308,  4.0046],\n",
       "        [ 2.5824,  2.1706, -0.9358, -1.1341, -1.2770, -2.6487, -3.5523, -1.5305,\n",
       "          3.6810,  2.0638],\n",
       "        [ 3.1788,  0.6669,  0.2800, -1.3869, -0.4140, -2.5766, -2.7350, -2.0554,\n",
       "          3.1111,  1.1529]], grad_fn=<ThAddmmBackward>)"
      ]
     },
     "execution_count": 45,
     "metadata": {},
     "output_type": "execute_result"
    }
   ],
   "source": [
    "outputs=net(images)\n",
    "outputs"
   ]
  },
  {
   "cell_type": "code",
   "execution_count": 44,
   "metadata": {},
   "outputs": [
    {
     "data": {
      "text/plain": [
       "tensor([[-0.5759, -1.9934, -0.1035,  2.9081, -0.1965,  2.1618,  1.1461, -0.9467,\n",
       "         -0.4882, -2.0352],\n",
       "        [ 5.5454,  6.5375, -2.6274, -3.5413, -3.6268, -5.7657, -6.1213, -4.4932,\n",
       "          7.8308,  4.0046],\n",
       "        [ 2.5824,  2.1706, -0.9358, -1.1341, -1.2770, -2.6487, -3.5523, -1.5305,\n",
       "          3.6810,  2.0638],\n",
       "        [ 3.1788,  0.6669,  0.2800, -1.3869, -0.4140, -2.5766, -2.7350, -2.0554,\n",
       "          3.1111,  1.1529]])"
      ]
     },
     "execution_count": 44,
     "metadata": {},
     "output_type": "execute_result"
    }
   ],
   "source": [
    "outputs.data"
   ]
  },
  {
   "cell_type": "code",
   "execution_count": 40,
   "metadata": {},
   "outputs": [
    {
     "name": "stdout",
     "output_type": "stream",
     "text": [
      "Predicted:    cat  ship  ship plane\n"
     ]
    }
   ],
   "source": [
    "_, predicted = torch.max(outputs,1)\n",
    "print('Predicted: ', ' '.join('%5s' % classes[predicted[j]]\n",
    "                              for j in range(4)))"
   ]
  },
  {
   "cell_type": "code",
   "execution_count": 41,
   "metadata": {},
   "outputs": [
    {
     "data": {
      "text/plain": [
       "tensor([[-0.5759, -1.9934, -0.1035,  2.9081, -0.1965,  2.1618,  1.1461, -0.9467,\n",
       "         -0.4882, -2.0352],\n",
       "        [ 5.5454,  6.5375, -2.6274, -3.5413, -3.6268, -5.7657, -6.1213, -4.4932,\n",
       "          7.8308,  4.0046],\n",
       "        [ 2.5824,  2.1706, -0.9358, -1.1341, -1.2770, -2.6487, -3.5523, -1.5305,\n",
       "          3.6810,  2.0638],\n",
       "        [ 3.1788,  0.6669,  0.2800, -1.3869, -0.4140, -2.5766, -2.7350, -2.0554,\n",
       "          3.1111,  1.1529]], grad_fn=<ThAddmmBackward>)"
      ]
     },
     "execution_count": 41,
     "metadata": {},
     "output_type": "execute_result"
    }
   ],
   "source": [
    "outputs"
   ]
  },
  {
   "cell_type": "code",
   "execution_count": 46,
   "metadata": {},
   "outputs": [
    {
     "name": "stdout",
     "output_type": "stream",
     "text": [
      "Accuracy of the network on the 10000 test images: 53 %\n"
     ]
    }
   ],
   "source": [
    "correct = 0 \n",
    "total = 0\n",
    "with torch.no_grad():\n",
    "    for data in testloader:\n",
    "        images, labels = data\n",
    "        outputs = net(images)\n",
    "        _,predicted = torch.max(outputs,1)\n",
    "        total += labels.size(0)\n",
    "        correct += (predicted == labels).sum().item()\n",
    "        \n",
    "    \n",
    "print('Accuracy of the network on the 10000 test images: %d %%' % (100 * correct / total))"
   ]
  },
  {
   "cell_type": "code",
   "execution_count": null,
   "metadata": {},
   "outputs": [],
   "source": []
  }
 ],
 "metadata": {
  "kernelspec": {
   "display_name": "Python 3",
   "language": "python",
   "name": "python3"
  },
  "language_info": {
   "codemirror_mode": {
    "name": "ipython",
    "version": 3
   },
   "file_extension": ".py",
   "mimetype": "text/x-python",
   "name": "python",
   "nbconvert_exporter": "python",
   "pygments_lexer": "ipython3",
   "version": "3.6.5"
  }
 },
 "nbformat": 4,
 "nbformat_minor": 2
}
